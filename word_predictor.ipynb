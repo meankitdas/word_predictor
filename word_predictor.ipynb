{
  "nbformat": 4,
  "nbformat_minor": 0,
  "metadata": {
    "colab": {
      "provenance": []
    },
    "kernelspec": {
      "name": "python3",
      "display_name": "Python 3"
    },
    "language_info": {
      "name": "python"
    }
  },
  "cells": [
    {
      "cell_type": "code",
      "execution_count": 84,
      "metadata": {
        "id": "HvXhRKysC_uo"
      },
      "outputs": [],
      "source": [
        "faqs = \"\"\"About the Program\n",
        "What is the course fee for  Data Science Mentorship Program (DSMP 2023)\n",
        "The course follows a monthly subscription model where you have to make monthly payments of Rs 799/month.\n",
        "What is the total duration of the course?\n",
        "The total duration of the course is 7 months. So the total course fee becomes 799*7 = Rs 5600(approx.)\n",
        "What is the syllabus of the mentorship program?\n",
        "We will be covering the following modules:\n",
        "Python Fundamentals\n",
        "Python libraries for Data Science\n",
        "Data Analysis\n",
        "SQL for Data Science\n",
        "Maths for Machine Learning\n",
        "ML Algorithms\n",
        "Practical ML\n",
        "MLOPs\n",
        "Case studies\n",
        "You can check the detailed syllabus here - https://learnwith.campusx.in/courses/CampusX-Data-Science-Mentorship-Program-637339afe4b0615a1bbed390\n",
        "Will Deep Learning and NLP be a part of this program?\n",
        "No, NLP and Deep Learning both are not a part of this program’s curriculum.\n",
        "What if I miss a live session? Will I get a recording of the session?\n",
        "Yes all our sessions are recorded, so even if you miss a session you can go back and watch the recording.\n",
        "Where can I find the class schedule?\n",
        "Checkout this google sheet to see month by month time table of the course - https://docs.google.com/spreadsheets/d/16OoTax_A6ORAeCg4emgexhqqPv3noQPYKU7RJ6ArOzk/edit?usp=sharing.\n",
        "What is the time duration of all the live sessions?\n",
        "Roughly, all the sessions last 2 hours.\n",
        "What is the language spoken by the instructor during the sessions?\n",
        "Hinglish\n",
        "How will I be informed about the upcoming class?\n",
        "You will get a mail from our side before every paid session once you become a paid user.\n",
        "Can I do this course if I am from a non-tech background?\n",
        "Yes, absolutely.\n",
        "I am late, can I join the program in the middle?\n",
        "Absolutely, you can join the program anytime.\n",
        "If I join/pay in the middle, will I be able to see all the past lectures?\n",
        "Yes, once you make the payment you will be able to see all the past content in your dashboard.\n",
        "Where do I have to submit the task?\n",
        "You don’t have to submit the task. We will provide you with the solutions, you have to self evaluate the task yourself.\n",
        "Will we do case studies in the program?\n",
        "Yes.\n",
        "Where can we contact you?\n",
        "You can mail us at nitish.campusx@gmail.com\n",
        "Payment/Registration related questions\n",
        "Where do we have to make our payments? Your YouTube channel or website?\n",
        "You have to make all your monthly payments on our website. Here is the link for our website - https://learnwith.campusx.in/\n",
        "Can we pay the entire amount of Rs 5600 all at once?\n",
        "Unfortunately no, the program follows a monthly subscription model.\n",
        "What is the validity of monthly subscription? Suppose if I pay on 15th Jan, then do I have to pay again on 1st Feb or 15th Feb\n",
        "15th Feb. The validity period is 30 days from the day you make the payment. So essentially you can join anytime you don’t have to wait for a month to end.\n",
        "What if I don’t like the course after making the payment. What is the refund policy?\n",
        "You get a 7 days refund period from the day you have made the payment.\n",
        "I am living outside India and I am not able to make the payment on the website, what should I do?\n",
        "You have to contact us by sending a mail at nitish.campusx@gmail.com\n",
        "Post registration queries\n",
        "Till when can I view the paid videos on the website?\n",
        "This one is tricky, so read carefully. You can watch the videos till your subscription is valid. Suppose you have purchased subscription on 21st Jan, you will be able to watch all the past paid sessions in the period of 21st Jan to 20th Feb. But after 21st Feb you will have to purchase the subscription again.\n",
        "But once the course is over and you have paid us Rs 5600(or 7 installments of Rs 799) you will be able to watch the paid sessions till Aug 2024.\n",
        "Why lifetime validity is not provided?\n",
        "Because of the low course fee.\n",
        "Where can I reach out in case of a doubt after the session?\n",
        "You will have to fill a google form provided in your dashboard and our team will contact you for a 1 on 1 doubt clearance session\n",
        "If I join the program late, can I still ask past week doubts?\n",
        "Yes, just select past week doubt in the doubt clearance google form.\n",
        "I am living outside India and I am not able to make the payment on the website, what should I do?\n",
        "You have to contact us by sending a mail at nitish.campusx@gmai.com\n",
        "Certificate and Placement Assistance related queries\n",
        "What is the criteria to get the certificate?\n",
        "There are 2 criterias:\n",
        "You have to pay the entire fee of Rs 5600\n",
        "You have to attempt all the course assessments.\n",
        "I am joining late. How can I pay payment of the earlier months?\n",
        "You will get a link to pay fee of earlier months in your dashboard once you pay for the current month.\n",
        "I have read that Placement assistance is a part of this program. What comes under Placement assistance?\n",
        "This is to clarify that Placement assistance does not mean Placement guarantee. So we dont guarantee you any jobs or for that matter even interview calls. So if you are planning to join this course just for placements, I am afraid you will be disappointed. Here is what comes under placement assistance\n",
        "Portfolio Building sessions\n",
        "Soft skill sessions\n",
        "Sessions with industry mentors\n",
        "Discussion on Job hunting strategies\n",
        "\"\"\""
      ]
    },
    {
      "cell_type": "code",
      "source": [
        "import tensorflow as tf\n",
        "from tensorflow.keras.preprocessing.text import Tokenizer"
      ],
      "metadata": {
        "id": "FqBksLqRDOct"
      },
      "execution_count": 85,
      "outputs": []
    },
    {
      "cell_type": "code",
      "source": [
        "tokenizer = Tokenizer()"
      ],
      "metadata": {
        "id": "mRJCIX3TDb8M"
      },
      "execution_count": 86,
      "outputs": []
    },
    {
      "cell_type": "code",
      "source": [
        "tokenizer.fit_on_texts([faqs])"
      ],
      "metadata": {
        "id": "sDAOlSXMDy3t"
      },
      "execution_count": 87,
      "outputs": []
    },
    {
      "cell_type": "code",
      "source": [
        "len(tokenizer.word_index)"
      ],
      "metadata": {
        "colab": {
          "base_uri": "https://localhost:8080/"
        },
        "id": "wwZKmrZFErKG",
        "outputId": "5870df0a-9480-416e-955a-52f47de32571"
      },
      "execution_count": 88,
      "outputs": [
        {
          "output_type": "execute_result",
          "data": {
            "text/plain": [
              "282"
            ]
          },
          "metadata": {},
          "execution_count": 88
        }
      ]
    },
    {
      "cell_type": "code",
      "source": [
        "input_sequences = []"
      ],
      "metadata": {
        "id": "EHd3pKQnEzW3"
      },
      "execution_count": 89,
      "outputs": []
    },
    {
      "cell_type": "code",
      "source": [
        "for sentence in faqs.split(\"\\n\"):\n",
        "  tokenize_sentence = tokenizer.texts_to_sequences([sentence])[0]\n",
        "\n",
        "  for i in range(1, len(tokenize_sentence)):\n",
        "    input_sequences.append(tokenize_sentence[:i+1])"
      ],
      "metadata": {
        "id": "lSplSJl8E4BY"
      },
      "execution_count": 90,
      "outputs": []
    },
    {
      "cell_type": "code",
      "source": [
        "max_len = max([len(x) for x in input_sequences ])\n",
        "max_len"
      ],
      "metadata": {
        "colab": {
          "base_uri": "https://localhost:8080/"
        },
        "id": "GVyoNXcKOhii",
        "outputId": "e9d2792e-6356-4125-871a-5a07341b41ce"
      },
      "execution_count": 91,
      "outputs": [
        {
          "output_type": "execute_result",
          "data": {
            "text/plain": [
              "57"
            ]
          },
          "metadata": {},
          "execution_count": 91
        }
      ]
    },
    {
      "cell_type": "code",
      "source": [
        "from tensorflow.keras.preprocessing.sequence import pad_sequences"
      ],
      "metadata": {
        "id": "WbAYdqjwQxkE"
      },
      "execution_count": 92,
      "outputs": []
    },
    {
      "cell_type": "code",
      "source": [
        "padded_input_sequences = pad_sequences(input_sequences, maxlen= max_len, padding=\"pre\")"
      ],
      "metadata": {
        "id": "LkywusHnQ98f"
      },
      "execution_count": 93,
      "outputs": []
    },
    {
      "cell_type": "code",
      "source": [
        "padded_input_sequences"
      ],
      "metadata": {
        "colab": {
          "base_uri": "https://localhost:8080/"
        },
        "id": "uk-wVgNaRlmm",
        "outputId": "6603d0fb-3ae6-4afb-ce56-130fe5689ee0"
      },
      "execution_count": 94,
      "outputs": [
        {
          "output_type": "execute_result",
          "data": {
            "text/plain": [
              "array([[  0,   0,   0, ...,   0,  93,   1],\n",
              "       [  0,   0,   0, ...,  93,   1,  13],\n",
              "       [  0,   0,   0, ...,   0,  11,   7],\n",
              "       ...,\n",
              "       [  0,   0,   0, ..., 279,  18, 280],\n",
              "       [  0,   0,   0, ...,  18, 280, 281],\n",
              "       [  0,   0,   0, ..., 280, 281, 282]], dtype=int32)"
            ]
          },
          "metadata": {},
          "execution_count": 94
        }
      ]
    },
    {
      "cell_type": "code",
      "source": [
        "x = padded_input_sequences[:,:-1]"
      ],
      "metadata": {
        "id": "BAAqhumZRqIQ"
      },
      "execution_count": 95,
      "outputs": []
    },
    {
      "cell_type": "code",
      "source": [
        "y = padded_input_sequences[:,-1]"
      ],
      "metadata": {
        "id": "pe-2dspSRyER"
      },
      "execution_count": 96,
      "outputs": []
    },
    {
      "cell_type": "code",
      "source": [
        "print(x)\n",
        "print(x.shape)"
      ],
      "metadata": {
        "colab": {
          "base_uri": "https://localhost:8080/"
        },
        "id": "Ig71G7YFR60p",
        "outputId": "bf79a958-4d17-4c46-eff4-801075c991ff"
      },
      "execution_count": 97,
      "outputs": [
        {
          "output_type": "stream",
          "name": "stdout",
          "text": [
            "[[  0   0   0 ...   0   0  93]\n",
            " [  0   0   0 ...   0  93   1]\n",
            " [  0   0   0 ...   0   0  11]\n",
            " ...\n",
            " [  0   0   0 ...   0 279  18]\n",
            " [  0   0   0 ... 279  18 280]\n",
            " [  0   0   0 ...  18 280 281]]\n",
            "(863, 56)\n"
          ]
        }
      ]
    },
    {
      "cell_type": "code",
      "source": [
        "print(y)\n",
        "print(y.shape)"
      ],
      "metadata": {
        "colab": {
          "base_uri": "https://localhost:8080/"
        },
        "id": "lSpcFfnaR8cm",
        "outputId": "bf94ddec-c135-45df-8209-edc10bcce143"
      },
      "execution_count": 98,
      "outputs": [
        {
          "output_type": "stream",
          "name": "stdout",
          "text": [
            "[  1  13   7   1  12  42  15  43  53  68  13 147 148  12  94   5  44  29\n",
            "  95  30   2   8   4  26  44  69   6  31  70  45   7   1  71  72   6   1\n",
            "  12  71  72   6   1  12   7  54  73  32   1  71  12  42 149  70  54  31\n",
            "  55 150   7   1  96   6   1  68  13   9  19 151   1 152 153 154 155  15\n",
            "  43  53 156  15  43  53  15 159  74 160  98  99  10 163   1 164  96  76\n",
            "  77 100  33  14 165  33  43  53  68  13 166 101  74  20 102  19   5  78\n",
            "   6  21  13 102  20 101  74 167  56  46   5  78   6  21 168 169  22   3\n",
            " 104   5 105  34   9   3  47   5 106   6   1  34  16  35  17  56 170  32\n",
            " 107  22   2 104   5  34   2  10 171 172  20  57   1 106  10   3 173   1\n",
            " 108 174  21  58 176   4  79  45  59  45 109 177   6   1  12  77 178  58\n",
            "  60 179 180 181 182 183 184 185   7   1 109  72   6  16   1 105  17  16\n",
            "   1  17 187 110 188   7   1 189 190  59   1 191 192   1  17   9   3  19\n",
            " 194  93   1 195 108   9  47   5  61  62  35 196 197 198  36  34  49   2\n",
            " 199   5  36 200   3  28  21  12  22   3  23  62   5 201 202 203 112  23\n",
            "  80  10   3  37   1  13  14   1 113   2  10  37   1  13 114   3  37  24\n",
            "  14   1 113   9   3  19  38   4  79  16   1  50 204  49   2  26   1  25\n",
            "   2   9  19  38   4  79  16   1  50 205  14  39  81  28   3   8   4 115\n",
            "   1  82  83   8   4 115   1  82  27   9 206   2 116   1 207   2   8   4\n",
            " 208 209   1  82 210  27  28  75  99  14   1  13  10  27  63   2  10  61\n",
            "  64  65  84  33 117  60 118 119 211  28  27   8   4  26  35  69  39 212\n",
            " 213  66  40   8   4  26  16  39  44  69  18  35  40  76   7   1 120  15\n",
            "  35  40  77 100  33  14  27  24   1 121 214   6  31  55  16  65  49 103\n",
            "   1  13  94   5  44  29  95   7   1  85   6  44  29 122  22   3  24  18\n",
            "  86  87 216  28   3   8   4  24 123  18 217  51  66  86  51  51   1  85\n",
            "  88   7 218 124  62   1 125   2  26   1  25  32 219   2  10  37 114   2\n",
            "  83   8   4 220  15   5  45   4 221  22   3  83 222   1  12  89 223   1\n",
            "  25  11   7   1 126 224  47   5  54 124 126  88  62   1 125   2   8 225\n",
            "   1  25  23 127 128 129  20   3  23  46  38   4  26   1  25  18   1  40\n",
            "  11 130   3  28   8   4  63  64  59 131   5  61  65  84  33 117  60 118\n",
            " 132 227  10   3 228   1  36 133  18   1  40 229   7 230  32 134 231   2\n",
            "  10  57   1 133  90  39  29   7 232 122   2   8 233  29  18  91  87   2\n",
            "   9  19  38   4  57  16   1  50  36  17  14   1  88   6  91  87   4 234\n",
            "  51 135  89  91  51   2   9   8   4 235   1  29 123  49   1  12   7 236\n",
            "  20   2   8  36  64  31  55  66  54 237   6  31  70   2   9  19  38   4\n",
            "  57   1  36  17  90 238 239 241  85   7  46 136   6   1 243  12  42  10\n",
            "   3 244 245  14  75   6   5  67  89   1  34   9   8   4 246   5  58 137\n",
            " 136  14  39  81  20  35 247   9  63   2  15   5 138  18 138  67 139  34\n",
            "   3  37   1  13  80  10   3 248 249  50 140 250 141 251  50 140  67  14\n",
            "   1  67 139  58 137  23 127 128 129  20   3  23  46  38   4  26   1  25\n",
            "  18   1  40  11 130   3  28   8   4  63  64  59 131   5  61  65  84  33\n",
            " 252  60  20  41  52 119 132   7   1 253   4  47   1 142  56 110 255   8\n",
            "   4  24   1 121  42   6  31  55   8   4 256  16   1  12 257  23 258  80\n",
            " 111  10   3  24  25   6   1 143  73   9  47   5 120   4  24  42   6 143\n",
            "  73  14  39  81  49   2  24  15   1 259  45   8 134  92  41  52   7   5\n",
            "  78   6  21  13  11 144 145  41  52   7   4 260  92  41  52 261  46 262\n",
            "  41 146  32  27 263 146   2 264 265  66  15  92 266 107 267 268  32  22\n",
            "   2  56 269   4  37  21  12 141  15 270   3  23 271   2   9  19 272  76\n",
            "   7  11 144 145  41  52 274  17 276  17 116 277 278  18 280 281 282]\n",
            "(863,)\n"
          ]
        }
      ]
    },
    {
      "cell_type": "code",
      "source": [
        "from tensorflow.keras.utils import to_categorical"
      ],
      "metadata": {
        "id": "86CKMgcA_gbg"
      },
      "execution_count": 99,
      "outputs": []
    },
    {
      "cell_type": "code",
      "source": [
        "y = to_categorical(y, num_classes=283)"
      ],
      "metadata": {
        "id": "Ivz0EnjM_gcx"
      },
      "execution_count": 100,
      "outputs": []
    },
    {
      "cell_type": "code",
      "source": [
        "y.shape"
      ],
      "metadata": {
        "colab": {
          "base_uri": "https://localhost:8080/"
        },
        "id": "JGOMYh3eK33F",
        "outputId": "33c32a1f-b6c3-4c4a-cc46-7e53f8445bc3"
      },
      "execution_count": 101,
      "outputs": [
        {
          "output_type": "execute_result",
          "data": {
            "text/plain": [
              "(863, 283)"
            ]
          },
          "metadata": {},
          "execution_count": 101
        }
      ]
    },
    {
      "cell_type": "code",
      "source": [
        "x.shape"
      ],
      "metadata": {
        "colab": {
          "base_uri": "https://localhost:8080/"
        },
        "id": "jq6RAVm9dIHb",
        "outputId": "75e9cf23-1ecd-42af-a89a-0ced5570f0c8"
      },
      "execution_count": 102,
      "outputs": [
        {
          "output_type": "execute_result",
          "data": {
            "text/plain": [
              "(863, 56)"
            ]
          },
          "metadata": {},
          "execution_count": 102
        }
      ]
    },
    {
      "cell_type": "code",
      "source": [
        "from tensorflow.keras.models import Sequential\n",
        "from tensorflow.keras.layers import Embedding, LSTM, Dense"
      ],
      "metadata": {
        "id": "7ZmrMbYEO8T9"
      },
      "execution_count": 103,
      "outputs": []
    },
    {
      "cell_type": "code",
      "source": [
        "model = Sequential()\n",
        "model.add(Embedding(283, 100, input_length=56))\n",
        "model.add(LSTM(150))\n",
        "model.add(Dense(283, activation='softmax'))"
      ],
      "metadata": {
        "id": "A2LPF0uoPqKa"
      },
      "execution_count": 104,
      "outputs": []
    },
    {
      "cell_type": "code",
      "source": [
        "model.compile(loss='categorical_crossentropy', optimizer='adam',metrics=['accuracy'])"
      ],
      "metadata": {
        "id": "PTwdvduFQwub"
      },
      "execution_count": 105,
      "outputs": []
    },
    {
      "cell_type": "code",
      "source": [
        "model.summary()"
      ],
      "metadata": {
        "colab": {
          "base_uri": "https://localhost:8080/"
        },
        "id": "juJjdUwPRDh5",
        "outputId": "5c214468-8b4e-4a40-addc-7e92c4e06af5"
      },
      "execution_count": 106,
      "outputs": [
        {
          "output_type": "stream",
          "name": "stdout",
          "text": [
            "Model: \"sequential_7\"\n",
            "_________________________________________________________________\n",
            " Layer (type)                Output Shape              Param #   \n",
            "=================================================================\n",
            " embedding_7 (Embedding)     (None, 56, 100)           28300     \n",
            "                                                                 \n",
            " lstm_10 (LSTM)              (None, 150)               150600    \n",
            "                                                                 \n",
            " dense_4 (Dense)             (None, 283)               42733     \n",
            "                                                                 \n",
            "=================================================================\n",
            "Total params: 221633 (865.75 KB)\n",
            "Trainable params: 221633 (865.75 KB)\n",
            "Non-trainable params: 0 (0.00 Byte)\n",
            "_________________________________________________________________\n"
          ]
        }
      ]
    },
    {
      "cell_type": "code",
      "source": [
        "model.fit(x,y, epochs=100)"
      ],
      "metadata": {
        "colab": {
          "base_uri": "https://localhost:8080/"
        },
        "id": "JkzfnxnzRHt9",
        "outputId": "0e82209f-9f3e-4f12-d0cd-2648c8cb8eef"
      },
      "execution_count": 107,
      "outputs": [
        {
          "output_type": "stream",
          "name": "stdout",
          "text": [
            "Epoch 1/100\n",
            "27/27 [==============================] - 6s 101ms/step - loss: 5.4911 - accuracy: 0.0660\n",
            "Epoch 2/100\n",
            "27/27 [==============================] - 3s 102ms/step - loss: 5.1066 - accuracy: 0.0776\n",
            "Epoch 3/100\n",
            "27/27 [==============================] - 3s 102ms/step - loss: 5.0169 - accuracy: 0.0776\n",
            "Epoch 4/100\n",
            "27/27 [==============================] - 4s 153ms/step - loss: 4.9713 - accuracy: 0.0776\n",
            "Epoch 5/100\n",
            "27/27 [==============================] - 3s 105ms/step - loss: 4.9081 - accuracy: 0.0788\n",
            "Epoch 6/100\n",
            "27/27 [==============================] - 3s 103ms/step - loss: 4.7835 - accuracy: 0.0800\n",
            "Epoch 7/100\n",
            "27/27 [==============================] - 3s 102ms/step - loss: 4.6221 - accuracy: 0.1078\n",
            "Epoch 8/100\n",
            "27/27 [==============================] - 4s 154ms/step - loss: 4.4152 - accuracy: 0.1275\n",
            "Epoch 9/100\n",
            "27/27 [==============================] - 3s 101ms/step - loss: 4.2027 - accuracy: 0.1680\n",
            "Epoch 10/100\n",
            "27/27 [==============================] - 3s 102ms/step - loss: 3.9752 - accuracy: 0.1889\n",
            "Epoch 11/100\n",
            "27/27 [==============================] - 3s 102ms/step - loss: 3.7632 - accuracy: 0.2178\n",
            "Epoch 12/100\n",
            "27/27 [==============================] - 4s 153ms/step - loss: 3.5531 - accuracy: 0.2364\n",
            "Epoch 13/100\n",
            "27/27 [==============================] - 3s 103ms/step - loss: 3.3519 - accuracy: 0.2839\n",
            "Epoch 14/100\n",
            "27/27 [==============================] - 3s 102ms/step - loss: 3.1643 - accuracy: 0.3036\n",
            "Epoch 15/100\n",
            "27/27 [==============================] - 3s 106ms/step - loss: 2.9757 - accuracy: 0.3488\n",
            "Epoch 16/100\n",
            "27/27 [==============================] - 4s 145ms/step - loss: 2.8034 - accuracy: 0.3824\n",
            "Epoch 17/100\n",
            "27/27 [==============================] - 3s 106ms/step - loss: 2.6310 - accuracy: 0.4229\n",
            "Epoch 18/100\n",
            "27/27 [==============================] - 3s 100ms/step - loss: 2.4705 - accuracy: 0.4392\n",
            "Epoch 19/100\n",
            "27/27 [==============================] - 3s 102ms/step - loss: 2.3236 - accuracy: 0.4878\n",
            "Epoch 20/100\n",
            "27/27 [==============================] - 3s 124ms/step - loss: 2.1696 - accuracy: 0.5330\n",
            "Epoch 21/100\n",
            "27/27 [==============================] - 3s 125ms/step - loss: 2.0387 - accuracy: 0.5724\n",
            "Epoch 22/100\n",
            "27/27 [==============================] - 3s 103ms/step - loss: 1.9064 - accuracy: 0.5921\n",
            "Epoch 23/100\n",
            "27/27 [==============================] - 3s 101ms/step - loss: 1.7933 - accuracy: 0.6280\n",
            "Epoch 24/100\n",
            "27/27 [==============================] - 3s 110ms/step - loss: 1.6741 - accuracy: 0.6605\n",
            "Epoch 25/100\n",
            "27/27 [==============================] - 4s 142ms/step - loss: 1.5719 - accuracy: 0.6883\n",
            "Epoch 26/100\n",
            "27/27 [==============================] - 3s 101ms/step - loss: 1.4683 - accuracy: 0.7080\n",
            "Epoch 27/100\n",
            "27/27 [==============================] - 3s 99ms/step - loss: 1.3780 - accuracy: 0.7312\n",
            "Epoch 28/100\n",
            "27/27 [==============================] - 3s 102ms/step - loss: 1.2877 - accuracy: 0.7625\n",
            "Epoch 29/100\n",
            "27/27 [==============================] - 4s 152ms/step - loss: 1.2047 - accuracy: 0.7856\n",
            "Epoch 30/100\n",
            "27/27 [==============================] - 3s 101ms/step - loss: 1.1341 - accuracy: 0.7961\n",
            "Epoch 31/100\n",
            "27/27 [==============================] - 3s 102ms/step - loss: 1.0601 - accuracy: 0.8076\n",
            "Epoch 32/100\n",
            "27/27 [==============================] - 3s 101ms/step - loss: 0.9970 - accuracy: 0.8239\n",
            "Epoch 33/100\n",
            "27/27 [==============================] - 4s 154ms/step - loss: 0.9303 - accuracy: 0.8552\n",
            "Epoch 34/100\n",
            "27/27 [==============================] - 3s 101ms/step - loss: 0.8747 - accuracy: 0.8598\n",
            "Epoch 35/100\n",
            "27/27 [==============================] - 3s 103ms/step - loss: 0.8261 - accuracy: 0.8702\n",
            "Epoch 36/100\n",
            "27/27 [==============================] - 3s 101ms/step - loss: 0.7779 - accuracy: 0.8830\n",
            "Epoch 37/100\n",
            "27/27 [==============================] - 4s 148ms/step - loss: 0.7300 - accuracy: 0.8899\n",
            "Epoch 38/100\n",
            "27/27 [==============================] - 3s 101ms/step - loss: 0.6880 - accuracy: 0.9015\n",
            "Epoch 39/100\n",
            "27/27 [==============================] - 3s 102ms/step - loss: 0.6505 - accuracy: 0.9085\n",
            "Epoch 40/100\n",
            "27/27 [==============================] - 3s 102ms/step - loss: 0.6169 - accuracy: 0.9131\n",
            "Epoch 41/100\n",
            "27/27 [==============================] - 3s 130ms/step - loss: 0.5807 - accuracy: 0.9200\n",
            "Epoch 42/100\n",
            "27/27 [==============================] - 3s 119ms/step - loss: 0.5525 - accuracy: 0.9212\n",
            "Epoch 43/100\n",
            "27/27 [==============================] - 3s 102ms/step - loss: 0.5216 - accuracy: 0.9235\n",
            "Epoch 44/100\n",
            "27/27 [==============================] - 3s 102ms/step - loss: 0.4973 - accuracy: 0.9258\n",
            "Epoch 45/100\n",
            "27/27 [==============================] - 3s 112ms/step - loss: 0.4738 - accuracy: 0.9258\n",
            "Epoch 46/100\n",
            "27/27 [==============================] - 4s 138ms/step - loss: 0.4515 - accuracy: 0.9328\n",
            "Epoch 47/100\n",
            "27/27 [==============================] - 3s 99ms/step - loss: 0.4317 - accuracy: 0.9305\n",
            "Epoch 48/100\n",
            "27/27 [==============================] - 3s 100ms/step - loss: 0.4114 - accuracy: 0.9363\n",
            "Epoch 49/100\n",
            "27/27 [==============================] - 3s 101ms/step - loss: 0.3951 - accuracy: 0.9397\n",
            "Epoch 50/100\n",
            "27/27 [==============================] - 4s 156ms/step - loss: 0.3751 - accuracy: 0.9455\n",
            "Epoch 51/100\n",
            "27/27 [==============================] - 3s 102ms/step - loss: 0.3613 - accuracy: 0.9374\n",
            "Epoch 52/100\n",
            "27/27 [==============================] - 3s 101ms/step - loss: 0.3474 - accuracy: 0.9397\n",
            "Epoch 53/100\n",
            "27/27 [==============================] - 3s 102ms/step - loss: 0.3325 - accuracy: 0.9467\n",
            "Epoch 54/100\n",
            "27/27 [==============================] - 4s 157ms/step - loss: 0.3185 - accuracy: 0.9432\n",
            "Epoch 55/100\n",
            "27/27 [==============================] - 3s 102ms/step - loss: 0.3074 - accuracy: 0.9363\n",
            "Epoch 56/100\n",
            "27/27 [==============================] - 3s 101ms/step - loss: 0.2969 - accuracy: 0.9421\n",
            "Epoch 57/100\n",
            "27/27 [==============================] - 3s 99ms/step - loss: 0.2867 - accuracy: 0.9490\n",
            "Epoch 58/100\n",
            "27/27 [==============================] - 4s 156ms/step - loss: 0.2780 - accuracy: 0.9490\n",
            "Epoch 59/100\n",
            "27/27 [==============================] - 3s 101ms/step - loss: 0.2693 - accuracy: 0.9444\n",
            "Epoch 60/100\n",
            "27/27 [==============================] - 3s 101ms/step - loss: 0.2610 - accuracy: 0.9397\n",
            "Epoch 61/100\n",
            "27/27 [==============================] - 3s 101ms/step - loss: 0.2535 - accuracy: 0.9479\n",
            "Epoch 62/100\n",
            "27/27 [==============================] - 4s 145ms/step - loss: 0.2462 - accuracy: 0.9432\n",
            "Epoch 63/100\n",
            "27/27 [==============================] - 3s 110ms/step - loss: 0.2392 - accuracy: 0.9421\n",
            "Epoch 64/100\n",
            "27/27 [==============================] - 3s 104ms/step - loss: 0.2319 - accuracy: 0.9444\n",
            "Epoch 65/100\n",
            "27/27 [==============================] - 3s 102ms/step - loss: 0.2279 - accuracy: 0.9455\n",
            "Epoch 66/100\n",
            "27/27 [==============================] - 3s 129ms/step - loss: 0.2228 - accuracy: 0.9479\n",
            "Epoch 67/100\n",
            "27/27 [==============================] - 3s 119ms/step - loss: 0.2159 - accuracy: 0.9467\n",
            "Epoch 68/100\n",
            "27/27 [==============================] - 3s 102ms/step - loss: 0.2106 - accuracy: 0.9455\n",
            "Epoch 69/100\n",
            "27/27 [==============================] - 3s 102ms/step - loss: 0.2084 - accuracy: 0.9479\n",
            "Epoch 70/100\n",
            "27/27 [==============================] - 3s 115ms/step - loss: 0.2020 - accuracy: 0.9479\n",
            "Epoch 71/100\n",
            "27/27 [==============================] - 4s 133ms/step - loss: 0.1977 - accuracy: 0.9455\n",
            "Epoch 72/100\n",
            "27/27 [==============================] - 3s 103ms/step - loss: 0.1937 - accuracy: 0.9467\n",
            "Epoch 73/100\n",
            "27/27 [==============================] - 3s 101ms/step - loss: 0.1927 - accuracy: 0.9432\n",
            "Epoch 74/100\n",
            "27/27 [==============================] - 3s 101ms/step - loss: 0.1878 - accuracy: 0.9513\n",
            "Epoch 75/100\n",
            "27/27 [==============================] - 4s 154ms/step - loss: 0.1857 - accuracy: 0.9467\n",
            "Epoch 76/100\n",
            "27/27 [==============================] - 3s 101ms/step - loss: 0.1809 - accuracy: 0.9432\n",
            "Epoch 77/100\n",
            "27/27 [==============================] - 3s 101ms/step - loss: 0.1776 - accuracy: 0.9467\n",
            "Epoch 78/100\n",
            "27/27 [==============================] - 3s 103ms/step - loss: 0.1762 - accuracy: 0.9467\n",
            "Epoch 79/100\n",
            "27/27 [==============================] - 4s 153ms/step - loss: 0.1727 - accuracy: 0.9467\n",
            "Epoch 80/100\n",
            "27/27 [==============================] - 3s 100ms/step - loss: 0.1703 - accuracy: 0.9444\n",
            "Epoch 81/100\n",
            "27/27 [==============================] - 3s 101ms/step - loss: 0.1675 - accuracy: 0.9467\n",
            "Epoch 82/100\n",
            "27/27 [==============================] - 3s 101ms/step - loss: 0.1654 - accuracy: 0.9490\n",
            "Epoch 83/100\n",
            "27/27 [==============================] - 4s 156ms/step - loss: 0.1646 - accuracy: 0.9467\n",
            "Epoch 84/100\n",
            "27/27 [==============================] - 3s 102ms/step - loss: 0.1633 - accuracy: 0.9525\n",
            "Epoch 85/100\n",
            "27/27 [==============================] - 3s 100ms/step - loss: 0.1596 - accuracy: 0.9444\n",
            "Epoch 86/100\n",
            "27/27 [==============================] - 3s 102ms/step - loss: 0.1580 - accuracy: 0.9467\n",
            "Epoch 87/100\n",
            "27/27 [==============================] - 4s 143ms/step - loss: 0.1555 - accuracy: 0.9455\n",
            "Epoch 88/100\n",
            "27/27 [==============================] - 3s 111ms/step - loss: 0.1540 - accuracy: 0.9444\n",
            "Epoch 89/100\n",
            "27/27 [==============================] - 3s 102ms/step - loss: 0.1512 - accuracy: 0.9467\n",
            "Epoch 90/100\n",
            "27/27 [==============================] - 3s 103ms/step - loss: 0.1517 - accuracy: 0.9455\n",
            "Epoch 91/100\n",
            "27/27 [==============================] - 3s 128ms/step - loss: 0.1501 - accuracy: 0.9479\n",
            "Epoch 92/100\n",
            "27/27 [==============================] - 3s 125ms/step - loss: 0.1498 - accuracy: 0.9397\n",
            "Epoch 93/100\n",
            "27/27 [==============================] - 3s 102ms/step - loss: 0.1486 - accuracy: 0.9444\n",
            "Epoch 94/100\n",
            "27/27 [==============================] - 3s 104ms/step - loss: 0.1458 - accuracy: 0.9409\n",
            "Epoch 95/100\n",
            "27/27 [==============================] - 3s 114ms/step - loss: 0.1469 - accuracy: 0.9467\n",
            "Epoch 96/100\n",
            "27/27 [==============================] - 4s 140ms/step - loss: 0.1460 - accuracy: 0.9479\n",
            "Epoch 97/100\n",
            "27/27 [==============================] - 3s 104ms/step - loss: 0.1436 - accuracy: 0.9467\n",
            "Epoch 98/100\n",
            "27/27 [==============================] - 3s 105ms/step - loss: 0.1413 - accuracy: 0.9490\n",
            "Epoch 99/100\n",
            "27/27 [==============================] - 3s 101ms/step - loss: 0.1387 - accuracy: 0.9490\n",
            "Epoch 100/100\n",
            "27/27 [==============================] - 4s 150ms/step - loss: 0.1398 - accuracy: 0.9432\n"
          ]
        },
        {
          "output_type": "execute_result",
          "data": {
            "text/plain": [
              "<keras.src.callbacks.History at 0x7b6e68b6ace0>"
            ]
          },
          "metadata": {},
          "execution_count": 107
        }
      ]
    },
    {
      "cell_type": "code",
      "source": [
        "import time\n",
        "import numpy as np\n",
        "\n",
        "text = \"I am Ankit\"\n",
        "\n",
        "for i in range(50):\n",
        "  #tokenize\n",
        "  token_text = tokenizer.texts_to_sequences([text])[0]\n",
        "  #padding\n",
        "  padded_token_text = pad_sequences([token_text], maxlen = 56, padding=\"pre\")\n",
        "  #predict\n",
        "  pos = np.argmax(model.predict(padded_token_text))\n",
        "\n",
        "  for word, index in tokenizer.word_index.items():\n",
        "    if index == pos:\n",
        "      text = text + \" \" + word\n",
        "      print(text)\n",
        "      time.sleep(2)"
      ],
      "metadata": {
        "colab": {
          "base_uri": "https://localhost:8080/"
        },
        "id": "U-H6ZB8xuf4i",
        "outputId": "398a804e-f786-40a5-ab8f-cd71e287009f"
      },
      "execution_count": 121,
      "outputs": [
        {
          "output_type": "stream",
          "name": "stdout",
          "text": [
            "1/1 [==============================] - 0s 34ms/step\n",
            "I am Ankit living\n",
            "1/1 [==============================] - 0s 34ms/step\n",
            "I am Ankit living outside\n",
            "1/1 [==============================] - 0s 48ms/step\n",
            "I am Ankit living outside india\n",
            "1/1 [==============================] - 0s 35ms/step\n",
            "I am Ankit living outside india and\n",
            "1/1 [==============================] - 0s 31ms/step\n",
            "I am Ankit living outside india and i\n",
            "1/1 [==============================] - 0s 32ms/step\n",
            "I am Ankit living outside india and i am\n",
            "1/1 [==============================] - 0s 31ms/step\n",
            "I am Ankit living outside india and i am not\n",
            "1/1 [==============================] - 0s 45ms/step\n",
            "I am Ankit living outside india and i am not able\n",
            "1/1 [==============================] - 0s 37ms/step\n",
            "I am Ankit living outside india and i am not able to\n",
            "1/1 [==============================] - 0s 35ms/step\n",
            "I am Ankit living outside india and i am not able to make\n",
            "1/1 [==============================] - 0s 34ms/step\n",
            "I am Ankit living outside india and i am not able to make the\n",
            "1/1 [==============================] - 0s 31ms/step\n",
            "I am Ankit living outside india and i am not able to make the payment\n",
            "1/1 [==============================] - 0s 34ms/step\n",
            "I am Ankit living outside india and i am not able to make the payment on\n",
            "1/1 [==============================] - 0s 54ms/step\n",
            "I am Ankit living outside india and i am not able to make the payment on the\n",
            "1/1 [==============================] - 0s 32ms/step\n",
            "I am Ankit living outside india and i am not able to make the payment on the website\n",
            "1/1 [==============================] - 0s 31ms/step\n",
            "I am Ankit living outside india and i am not able to make the payment on the website what\n",
            "1/1 [==============================] - 0s 32ms/step\n",
            "I am Ankit living outside india and i am not able to make the payment on the website what should\n",
            "1/1 [==============================] - 0s 31ms/step\n",
            "I am Ankit living outside india and i am not able to make the payment on the website what should i\n",
            "1/1 [==============================] - 0s 33ms/step\n",
            "I am Ankit living outside india and i am not able to make the payment on the website what should i do\n",
            "1/1 [==============================] - 0s 32ms/step\n",
            "I am Ankit living outside india and i am not able to make the payment on the website what should i do i\n",
            "1/1 [==============================] - 0s 32ms/step\n",
            "I am Ankit living outside india and i am not able to make the payment on the website what should i do i do\n",
            "1/1 [==============================] - 0s 31ms/step\n",
            "I am Ankit living outside india and i am not able to make the payment on the website what should i do i do i\n",
            "1/1 [==============================] - 0s 33ms/step\n",
            "I am Ankit living outside india and i am not able to make the payment on the website what should i do i do i have\n",
            "1/1 [==============================] - 0s 32ms/step\n",
            "I am Ankit living outside india and i am not able to make the payment on the website what should i do i do i have to\n",
            "1/1 [==============================] - 0s 64ms/step\n",
            "I am Ankit living outside india and i am not able to make the payment on the website what should i do i do i have to pay\n",
            "1/1 [==============================] - 0s 32ms/step\n",
            "I am Ankit living outside india and i am not able to make the payment on the website what should i do i do i have to pay again\n",
            "1/1 [==============================] - 0s 32ms/step\n",
            "I am Ankit living outside india and i am not able to make the payment on the website what should i do i do i have to pay again on\n",
            "1/1 [==============================] - 0s 36ms/step\n",
            "I am Ankit living outside india and i am not able to make the payment on the website what should i do i do i have to pay again on 1st\n",
            "1/1 [==============================] - 0s 31ms/step\n",
            "I am Ankit living outside india and i am not able to make the payment on the website what should i do i do i have to pay again on 1st feb\n",
            "1/1 [==============================] - 0s 34ms/step\n",
            "I am Ankit living outside india and i am not able to make the payment on the website what should i do i do i have to pay again on 1st feb or\n",
            "1/1 [==============================] - 0s 32ms/step\n",
            "I am Ankit living outside india and i am not able to make the payment on the website what should i do i do i have to pay again on 1st feb or 15th\n",
            "1/1 [==============================] - 0s 32ms/step\n",
            "I am Ankit living outside india and i am not able to make the payment on the website what should i do i do i have to pay again on 1st feb or 15th feb\n",
            "1/1 [==============================] - 0s 32ms/step\n",
            "I am Ankit living outside india and i am not able to make the payment on the website what should i do i do i have to pay again on 1st feb or 15th feb the\n",
            "1/1 [==============================] - 0s 31ms/step\n",
            "I am Ankit living outside india and i am not able to make the payment on the website what should i do i do i have to pay again on 1st feb or 15th feb the jan\n",
            "1/1 [==============================] - 0s 33ms/step\n",
            "I am Ankit living outside india and i am not able to make the payment on the website what should i do i do i have to pay again on 1st feb or 15th feb the jan you\n",
            "1/1 [==============================] - 0s 52ms/step\n",
            "I am Ankit living outside india and i am not able to make the payment on the website what should i do i do i have to pay again on 1st feb or 15th feb the jan you will\n",
            "1/1 [==============================] - 0s 31ms/step\n",
            "I am Ankit living outside india and i am not able to make the payment on the website what should i do i do i have to pay again on 1st feb or 15th feb the jan you will be\n",
            "1/1 [==============================] - 0s 31ms/step\n",
            "I am Ankit living outside india and i am not able to make the payment on the website what should i do i do i have to pay again on 1st feb or 15th feb the jan you will be able\n",
            "1/1 [==============================] - 0s 32ms/step\n",
            "I am Ankit living outside india and i am not able to make the payment on the website what should i do i do i have to pay again on 1st feb or 15th feb the jan you will be able to\n",
            "1/1 [==============================] - 0s 34ms/step\n",
            "I am Ankit living outside india and i am not able to make the payment on the website what should i do i do i have to pay again on 1st feb or 15th feb the jan you will be able to watch\n",
            "1/1 [==============================] - 0s 60ms/step\n",
            "I am Ankit living outside india and i am not able to make the payment on the website what should i do i do i have to pay again on 1st feb or 15th feb the jan you will be able to watch the\n",
            "1/1 [==============================] - 0s 31ms/step\n",
            "I am Ankit living outside india and i am not able to make the payment on the website what should i do i do i have to pay again on 1st feb or 15th feb the jan you will be able to watch the paid\n",
            "1/1 [==============================] - 0s 37ms/step\n",
            "I am Ankit living outside india and i am not able to make the payment on the website what should i do i do i have to pay again on 1st feb or 15th feb the jan you will be able to watch the paid sessions\n",
            "1/1 [==============================] - 0s 37ms/step\n",
            "I am Ankit living outside india and i am not able to make the payment on the website what should i do i do i have to pay again on 1st feb or 15th feb the jan you will be able to watch the paid sessions till\n",
            "1/1 [==============================] - 0s 32ms/step\n",
            "I am Ankit living outside india and i am not able to make the payment on the website what should i do i do i have to pay again on 1st feb or 15th feb the jan you will be able to watch the paid sessions till aug\n",
            "1/1 [==============================] - 0s 34ms/step\n",
            "I am Ankit living outside india and i am not able to make the payment on the website what should i do i do i have to pay again on 1st feb or 15th feb the jan you will be able to watch the paid sessions till aug 2024\n",
            "1/1 [==============================] - 0s 61ms/step\n",
            "I am Ankit living outside india and i am not able to make the payment on the website what should i do i do i have to pay again on 1st feb or 15th feb the jan you will be able to watch the paid sessions till aug 2024 2024\n",
            "1/1 [==============================] - 0s 35ms/step\n",
            "I am Ankit living outside india and i am not able to make the payment on the website what should i do i do i have to pay again on 1st feb or 15th feb the jan you will be able to watch the paid sessions till aug 2024 2024 2024\n",
            "1/1 [==============================] - 0s 35ms/step\n",
            "I am Ankit living outside india and i am not able to make the payment on the website what should i do i do i have to pay again on 1st feb or 15th feb the jan you will be able to watch the paid sessions till aug 2024 2024 2024 2024\n",
            "1/1 [==============================] - 0s 33ms/step\n",
            "I am Ankit living outside india and i am not able to make the payment on the website what should i do i do i have to pay again on 1st feb or 15th feb the jan you will be able to watch the paid sessions till aug 2024 2024 2024 2024 if\n"
          ]
        }
      ]
    }
  ]
}